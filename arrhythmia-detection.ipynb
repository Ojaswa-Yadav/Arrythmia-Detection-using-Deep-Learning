{
 "cells": [
  {
   "cell_type": "code",
   "execution_count": 1,
   "metadata": {
    "_cell_guid": "b1076dfc-b9ad-4769-8c92-a6c4dae69d19",
    "_uuid": "8f2839f25d086af736a60e9eeb907d3b93b6e0e5",
    "execution": {
     "iopub.execute_input": "2022-03-14T21:24:09.588071Z",
     "iopub.status.busy": "2022-03-14T21:24:09.587645Z",
     "iopub.status.idle": "2022-03-14T21:24:09.597370Z",
     "shell.execute_reply": "2022-03-14T21:24:09.596209Z",
     "shell.execute_reply.started": "2022-03-14T21:24:09.588015Z"
    }
   },
   "outputs": [
    {
     "name": "stdout",
     "output_type": "stream",
     "text": [
      "/kaggle/input/heartbeat/ptbdb_abnormal.csv\n",
      "/kaggle/input/heartbeat/ptbdb_normal.csv\n",
      "/kaggle/input/heartbeat/mitbih_test.csv\n",
      "/kaggle/input/heartbeat/mitbih_train.csv\n"
     ]
    }
   ],
   "source": [
    "# This Python 3 environment comes with many helpful analytics libraries installed\n",
    "# It is defined by the kaggle/python docker image: https://github.com/kaggle/docker-python\n",
    "# For example, here's several helpful packages to load in \n",
    "\n",
    "import numpy as np # linear algebra\n",
    "import pandas as pd # data processing, CSV file I/O (e.g. pd.read_csv)\n",
    "\n",
    "# Input data files are available in the \"../input/\" directory.\n",
    "# For example, running this (by clicking run or pressing Shift+Enter) will list all files under the input directory\n",
    "\n",
    "import os\n",
    "for dirname, _, filenames in os.walk('/kaggle/input'):\n",
    "    for filename in filenames:\n",
    "        print(os.path.join(dirname, filename))\n",
    "\n",
    "# Any results you write to the current directory are saved as output."
   ]
  },
  {
   "cell_type": "code",
   "execution_count": 2,
   "metadata": {
    "execution": {
     "iopub.execute_input": "2022-03-14T21:24:09.601061Z",
     "iopub.status.busy": "2022-03-14T21:24:09.600372Z",
     "iopub.status.idle": "2022-03-14T21:24:09.617811Z",
     "shell.execute_reply": "2022-03-14T21:24:09.616855Z",
     "shell.execute_reply.started": "2022-03-14T21:24:09.600974Z"
    }
   },
   "outputs": [
    {
     "name": "stderr",
     "output_type": "stream",
     "text": [
      "Using TensorFlow backend.\n"
     ]
    }
   ],
   "source": [
    "import math\n",
    "import random\n",
    "import pickle\n",
    "import itertools\n",
    "\n",
    "import numpy as np # linear algebra\n",
    "import pandas as pd # data processing, CSV file I/O (e.g. pd.read_csv)\n",
    "\n",
    "from sklearn.metrics import accuracy_score, classification_report, confusion_matrix, label_ranking_average_precision_score, label_ranking_loss, coverage_error \n",
    "\n",
    "from sklearn.utils import shuffle\n",
    "\n",
    "from scipy.signal import resample\n",
    "\n",
    "import matplotlib.pyplot as plt\n",
    "\n",
    "np.random.seed(42)\n",
    "\n",
    "import pickle\n",
    "from sklearn.preprocessing import OneHotEncoder\n",
    "\n",
    "\n",
    "\n",
    "\n",
    "from keras.models import Model\n",
    "from keras.layers import Input, Dense, Conv1D, MaxPooling1D, Softmax, Add, Flatten, Activation# , Dropout\n",
    "from keras import backend as K\n",
    "from keras.optimizers import Adam\n",
    "from keras.callbacks import LearningRateScheduler, ModelCheckpoint\n",
    "\n",
    "\n",
    "\n",
    "\n",
    "import numpy as np\n",
    "import pandas as pd\n",
    "import seaborn as sns\n",
    "import matplotlib.pyplot as plt\n",
    "from sklearn.metrics import classification_report\n",
    "from sklearn.model_selection import train_test_split\n",
    "from sklearn.metrics import f1_score\n",
    "from sklearn.metrics import confusion_matrix\n",
    "import math\n",
    "import random\n",
    "import pickle\n",
    "import itertools\n",
    "import numpy as np \n",
    "import pandas as pd \n",
    "import matplotlib.pyplot as plt\n",
    "np.random.seed(42)\n",
    "import tensorflow as tf\n",
    "import tensorflow.keras as keras\n"
   ]
  },
  {
   "cell_type": "markdown",
   "metadata": {},
   "source": [
    "1.  # DATA ACQUISITION *"
   ]
  },
  {
   "cell_type": "code",
   "execution_count": 3,
   "metadata": {
    "execution": {
     "iopub.execute_input": "2022-03-14T21:24:09.620038Z",
     "iopub.status.busy": "2022-03-14T21:24:09.619445Z",
     "iopub.status.idle": "2022-03-14T21:24:09.635569Z",
     "shell.execute_reply": "2022-03-14T21:24:09.634490Z",
     "shell.execute_reply.started": "2022-03-14T21:24:09.619920Z"
    }
   },
   "outputs": [
    {
     "name": "stdout",
     "output_type": "stream",
     "text": [
      "/kaggle/working\n"
     ]
    }
   ],
   "source": [
    "print(os.getcwd())"
   ]
  },
  {
   "cell_type": "code",
   "execution_count": 4,
   "metadata": {
    "execution": {
     "iopub.execute_input": "2022-03-14T21:24:09.637447Z",
     "iopub.status.busy": "2022-03-14T21:24:09.636944Z",
     "iopub.status.idle": "2022-03-14T21:24:17.161780Z",
     "shell.execute_reply": "2022-03-14T21:24:17.160544Z",
     "shell.execute_reply.started": "2022-03-14T21:24:09.637393Z"
    }
   },
   "outputs": [],
   "source": [
    "mit_test_data = pd.read_csv(\"../input/heartbeat/mitbih_test.csv\", header=None)\n",
    "mit_train_data = pd.read_csv(\"../input/heartbeat/mitbih_train.csv\", header=None)"
   ]
  },
  {
   "cell_type": "markdown",
   "metadata": {},
   "source": [
    "# PRODUCE BALANCED DATASET train_df , test_df *"
   ]
  },
  {
   "cell_type": "code",
   "execution_count": 5,
   "metadata": {
    "execution": {
     "iopub.execute_input": "2022-03-14T21:24:17.166704Z",
     "iopub.status.busy": "2022-03-14T21:24:17.166323Z",
     "iopub.status.idle": "2022-03-14T21:24:17.707959Z",
     "shell.execute_reply": "2022-03-14T21:24:17.706846Z",
     "shell.execute_reply.started": "2022-03-14T21:24:17.166651Z"
    }
   },
   "outputs": [
    {
     "name": "stdout",
     "output_type": "stream",
     "text": [
      "1.0    20000\n",
      "3.0    20000\n",
      "4.0    20000\n",
      "2.0    20000\n",
      "0.0    20000\n",
      "Name: 187, dtype: int64\n"
     ]
    },
    {
     "name": "stderr",
     "output_type": "stream",
     "text": [
      "/opt/conda/lib/python3.6/site-packages/ipykernel_launcher.py:19: UserWarning: Boolean Series key will be reindexed to match DataFrame index.\n",
      "/opt/conda/lib/python3.6/site-packages/ipykernel_launcher.py:20: UserWarning: Boolean Series key will be reindexed to match DataFrame index.\n",
      "/opt/conda/lib/python3.6/site-packages/ipykernel_launcher.py:21: UserWarning: Boolean Series key will be reindexed to match DataFrame index.\n",
      "/opt/conda/lib/python3.6/site-packages/ipykernel_launcher.py:22: UserWarning: Boolean Series key will be reindexed to match DataFrame index.\n",
      "/opt/conda/lib/python3.6/site-packages/ipykernel_launcher.py:23: UserWarning: Boolean Series key will be reindexed to match DataFrame index.\n"
     ]
    }
   ],
   "source": [
    "# There is a huge difference in the balanced of the classes.\n",
    "# Better choose the resample technique more than the class weights for the algorithms.\n",
    "from sklearn.utils import resample\n",
    "\n",
    "df_1=mit_train_data[mit_train_data[187]==1]\n",
    "df_2=mit_train_data[mit_train_data[187]==2]\n",
    "df_3=mit_train_data[mit_train_data[187]==3]\n",
    "df_4=mit_train_data[mit_train_data[187]==4]\n",
    "df_0=(mit_train_data[mit_train_data[187]==0]).sample(n=20000,random_state=42)\n",
    "\n",
    "df_1_upsample=resample(df_1,replace=True,n_samples=20000,random_state=123)\n",
    "df_2_upsample=resample(df_2,replace=True,n_samples=20000,random_state=124)\n",
    "df_3_upsample=resample(df_3,replace=True,n_samples=20000,random_state=125)\n",
    "df_4_upsample=resample(df_4,replace=True,n_samples=20000,random_state=126)\n",
    "\n",
    "train_df=pd.concat([df_0,df_1_upsample,df_2_upsample,df_3_upsample,df_4_upsample])\n",
    "\n",
    "\n",
    "df_11=mit_test_data[mit_train_data[187]==1]\n",
    "df_22=mit_test_data[mit_train_data[187]==2]\n",
    "df_33=mit_test_data[mit_train_data[187]==3]\n",
    "df_44=mit_test_data[mit_train_data[187]==4]\n",
    "df_00=(mit_test_data[mit_train_data[187]==0]).sample(n=20000,random_state=42)\n",
    "\n",
    "df_11_upsample=resample(df_1,replace=True,n_samples=20000,random_state=123)\n",
    "df_22_upsample=resample(df_2,replace=True,n_samples=20000,random_state=124)\n",
    "df_33_upsample=resample(df_3,replace=True,n_samples=20000,random_state=125)\n",
    "df_44_upsample=resample(df_4,replace=True,n_samples=20000,random_state=126)\n",
    "\n",
    "test_df=pd.concat([df_00,df_11_upsample,df_22_upsample,df_33_upsample,df_44_upsample])\n",
    "\n",
    "\n",
    "equilibre=train_df[187].value_counts()\n",
    "print(equilibre)"
   ]
  },
  {
   "cell_type": "code",
   "execution_count": 6,
   "metadata": {
    "execution": {
     "iopub.execute_input": "2022-03-14T21:24:17.710322Z",
     "iopub.status.busy": "2022-03-14T21:24:17.709946Z",
     "iopub.status.idle": "2022-03-14T21:24:17.735008Z",
     "shell.execute_reply": "2022-03-14T21:24:17.733931Z",
     "shell.execute_reply.started": "2022-03-14T21:24:17.710268Z"
    }
   },
   "outputs": [
    {
     "name": "stdout",
     "output_type": "stream",
     "text": [
      "ALL Train data\n",
      "Type\tCount\n",
      "0.0    72471\n",
      "4.0     6431\n",
      "2.0     5788\n",
      "1.0     2223\n",
      "3.0      641\n",
      "Name: 187, dtype: int64\n",
      "-------------------------\n",
      "ALL Test data\n",
      "Type\tCount\n",
      "0.0    18118\n",
      "4.0     1608\n",
      "2.0     1448\n",
      "1.0      556\n",
      "3.0      162\n",
      "Name: 187, dtype: int64\n",
      "ALL Balanced Train data\n",
      "Type\tCount\n",
      "1.0    20000\n",
      "3.0    20000\n",
      "4.0    20000\n",
      "2.0    20000\n",
      "0.0    20000\n",
      "Name: 187, dtype: int64\n",
      "-------------------------\n",
      "ALL Balanced Test data\n",
      "Type\tCount\n",
      "1.0    20000\n",
      "3.0    20000\n",
      "4.0    20000\n",
      "2.0    20000\n",
      "0.0    20000\n",
      "Name: 187, dtype: int64\n"
     ]
    }
   ],
   "source": [
    "print(\"ALL Train data\")\n",
    "print(\"Type\\tCount\")\n",
    "print((mit_train_data[187]).value_counts())\n",
    "print(\"-------------------------\")\n",
    "print(\"ALL Test data\")\n",
    "print(\"Type\\tCount\")\n",
    "print((mit_test_data[187]).value_counts())\n",
    "\n",
    "print(\"ALL Balanced Train data\")\n",
    "print(\"Type\\tCount\")\n",
    "print((train_df[187]).value_counts())\n",
    "print(\"-------------------------\")\n",
    "print(\"ALL Balanced Test data\")\n",
    "print(\"Type\\tCount\")\n",
    "print((train_df[187]).value_counts())"
   ]
  },
  {
   "cell_type": "markdown",
   "metadata": {},
   "source": [
    "#  MODEL RNN LSTM GRU"
   ]
  },
  {
   "cell_type": "markdown",
   "metadata": {},
   "source": [
    "#  USE IF SAMPLES ARE IN A ROW"
   ]
  },
  {
   "cell_type": "code",
   "execution_count": 7,
   "metadata": {
    "execution": {
     "iopub.execute_input": "2022-03-14T21:24:17.740462Z",
     "iopub.status.busy": "2022-03-14T21:24:17.738185Z",
     "iopub.status.idle": "2022-03-14T21:24:19.448328Z",
     "shell.execute_reply": "2022-03-14T21:24:19.445692Z",
     "shell.execute_reply.started": "2022-03-14T21:24:17.739149Z"
    }
   },
   "outputs": [
    {
     "data": {
      "text/html": [
       "<div>\n",
       "<style scoped>\n",
       "    .dataframe tbody tr th:only-of-type {\n",
       "        vertical-align: middle;\n",
       "    }\n",
       "\n",
       "    .dataframe tbody tr th {\n",
       "        vertical-align: top;\n",
       "    }\n",
       "\n",
       "    .dataframe thead th {\n",
       "        text-align: right;\n",
       "    }\n",
       "</style>\n",
       "<table border=\"1\" class=\"dataframe\">\n",
       "  <thead>\n",
       "    <tr style=\"text-align: right;\">\n",
       "      <th></th>\n",
       "      <th>0</th>\n",
       "    </tr>\n",
       "  </thead>\n",
       "  <tbody>\n",
       "    <tr>\n",
       "      <th>0</th>\n",
       "      <td>1.000000</td>\n",
       "    </tr>\n",
       "    <tr>\n",
       "      <th>1</th>\n",
       "      <td>0.758264</td>\n",
       "    </tr>\n",
       "    <tr>\n",
       "      <th>2</th>\n",
       "      <td>0.111570</td>\n",
       "    </tr>\n",
       "    <tr>\n",
       "      <th>3</th>\n",
       "      <td>0.000000</td>\n",
       "    </tr>\n",
       "    <tr>\n",
       "      <th>4</th>\n",
       "      <td>0.080579</td>\n",
       "    </tr>\n",
       "    <tr>\n",
       "      <th>...</th>\n",
       "      <td>...</td>\n",
       "    </tr>\n",
       "    <tr>\n",
       "      <th>182</th>\n",
       "      <td>0.000000</td>\n",
       "    </tr>\n",
       "    <tr>\n",
       "      <th>183</th>\n",
       "      <td>0.000000</td>\n",
       "    </tr>\n",
       "    <tr>\n",
       "      <th>184</th>\n",
       "      <td>0.000000</td>\n",
       "    </tr>\n",
       "    <tr>\n",
       "      <th>185</th>\n",
       "      <td>0.000000</td>\n",
       "    </tr>\n",
       "    <tr>\n",
       "      <th>186</th>\n",
       "      <td>0.000000</td>\n",
       "    </tr>\n",
       "  </tbody>\n",
       "</table>\n",
       "<p>187 rows × 1 columns</p>\n",
       "</div>"
      ],
      "text/plain": [
       "            0\n",
       "0    1.000000\n",
       "1    0.758264\n",
       "2    0.111570\n",
       "3    0.000000\n",
       "4    0.080579\n",
       "..        ...\n",
       "182  0.000000\n",
       "183  0.000000\n",
       "184  0.000000\n",
       "185  0.000000\n",
       "186  0.000000\n",
       "\n",
       "[187 rows x 1 columns]"
      ]
     },
     "execution_count": 7,
     "metadata": {},
     "output_type": "execute_result"
    }
   ],
   "source": [
    "test = pd.read_csv(\"../input/heartbeat/mitbih_test.csv\", header=None)\n",
    "test = test.iloc[0,0:len(test.T)-1] # Remove last line cause it might be a Nan\n",
    "test = pd.DataFrame(test)\n",
    "# NORMALIZING TEST DATA AMPLITUDE\n",
    "from sklearn.preprocessing import MinMaxScaler\n",
    "# load the dataset and print the first 5 rows\n",
    "# prepare data for normalization\n",
    "values = test.values\n",
    "scaler = MinMaxScaler(feature_range=(0, 1))\n",
    "scaler = scaler.fit(values)\n",
    "normalized = scaler.transform(values)\n",
    "normalized = pd.DataFrame(normalized)\n",
    "normalized"
   ]
  },
  {
   "cell_type": "markdown",
   "metadata": {},
   "source": [
    "# MODEL LSTM RNN"
   ]
  },
  {
   "cell_type": "code",
   "execution_count": 8,
   "metadata": {
    "execution": {
     "iopub.execute_input": "2022-03-14T21:24:19.455042Z",
     "iopub.status.busy": "2022-03-14T21:24:19.454032Z",
     "iopub.status.idle": "2022-03-14T21:24:19.467845Z",
     "shell.execute_reply": "2022-03-14T21:24:19.466542Z",
     "shell.execute_reply.started": "2022-03-14T21:24:19.454710Z"
    }
   },
   "outputs": [],
   "source": [
    "from keras.datasets import imdb\n",
    "from keras.models import Sequential\n",
    "from keras.layers import Dense\n",
    "from keras.layers import LSTM\n",
    "from keras.layers import Bidirectional\n",
    "from keras.layers.embeddings import Embedding\n",
    "from keras.preprocessing import sequence\n",
    "\n",
    "np.random.seed(7)"
   ]
  },
  {
   "cell_type": "code",
   "execution_count": 9,
   "metadata": {
    "execution": {
     "iopub.execute_input": "2022-03-14T21:24:19.470182Z",
     "iopub.status.busy": "2022-03-14T21:24:19.469579Z",
     "iopub.status.idle": "2022-03-14T21:24:19.973831Z",
     "shell.execute_reply": "2022-03-14T21:24:19.972575Z",
     "shell.execute_reply.started": "2022-03-14T21:24:19.470125Z"
    }
   },
   "outputs": [
    {
     "name": "stdout",
     "output_type": "stream",
     "text": [
      "--- X ---\n",
      "            0         1         2         3         4         5         6    \\\n",
      "10153  0.162791  0.540698  0.755814  0.186047  0.168605  0.546512  0.616279   \n",
      "33886  0.990066  0.938742  0.344371  0.034768  0.273179  0.331126  0.326159   \n",
      "32005  0.974239  0.932084  0.590164  0.131148  0.014052  0.168618  0.238876   \n",
      "56159  0.978495  0.723118  0.526882  0.298387  0.220430  0.158602  0.091398   \n",
      "61783  0.963351  0.709424  0.060209  0.013089  0.057592  0.041885  0.047120   \n",
      "\n",
      "            7         8         9    ...  177  178  179  180  181  182  183  \\\n",
      "10153  0.697674  0.651163  0.703488  ...  0.0  0.0  0.0  0.0  0.0  0.0  0.0   \n",
      "33886  0.341060  0.347682  0.347682  ...  0.0  0.0  0.0  0.0  0.0  0.0  0.0   \n",
      "32005  0.210773  0.196721  0.208431  ...  0.0  0.0  0.0  0.0  0.0  0.0  0.0   \n",
      "56159  0.091398  0.080645  0.083333  ...  0.0  0.0  0.0  0.0  0.0  0.0  0.0   \n",
      "61783  0.034031  0.039267  0.044503  ...  0.0  0.0  0.0  0.0  0.0  0.0  0.0   \n",
      "\n",
      "       184  185  186  \n",
      "10153  0.0  0.0  0.0  \n",
      "33886  0.0  0.0  0.0  \n",
      "32005  0.0  0.0  0.0  \n",
      "56159  0.0  0.0  0.0  \n",
      "61783  0.0  0.0  0.0  \n",
      "\n",
      "[5 rows x 187 columns]\n",
      "<class 'pandas.core.frame.DataFrame'>\n",
      "Int64Index: 100000 entries, 10153 to 86696\n",
      "Columns: 187 entries, 0 to 186\n",
      "dtypes: float64(187)\n",
      "memory usage: 143.4 MB\n",
      "None\n",
      "--- Y ---\n",
      "--- testX ---\n",
      "            0         1         2         3         4         5         6    \\\n",
      "17155  0.966581  0.802057  0.077121  0.000000  0.161954  0.244216  0.254499   \n",
      "8157   1.000000  0.644444  0.031111  0.026667  0.151111  0.128889  0.080000   \n",
      "3635   1.000000  0.965318  0.734104  0.462428  0.271676  0.156069  0.150289   \n",
      "19125  1.000000  0.998792  0.960145  0.896135  0.898551  0.873188  0.766908   \n",
      "3002   0.009836  0.000000  0.163934  0.242623  0.327869  0.350820  0.331148   \n",
      "\n",
      "            7         8         9    ...  177  178  179  180  181  182  183  \\\n",
      "17155  0.262211  0.264782  0.272494  ...  0.0  0.0  0.0  0.0  0.0  0.0  0.0   \n",
      "8157   0.080000  0.084444  0.080000  ...  0.0  0.0  0.0  0.0  0.0  0.0  0.0   \n",
      "3635   0.173410  0.173410  0.150289  ...  0.0  0.0  0.0  0.0  0.0  0.0  0.0   \n",
      "19125  0.591787  0.327295  0.252415  ...  0.0  0.0  0.0  0.0  0.0  0.0  0.0   \n",
      "3002   0.331148  0.354098  0.373771  ...  0.0  0.0  0.0  0.0  0.0  0.0  0.0   \n",
      "\n",
      "       184  185  186  \n",
      "17155  0.0  0.0  0.0  \n",
      "8157   0.0  0.0  0.0  \n",
      "3635   0.0  0.0  0.0  \n",
      "19125  0.0  0.0  0.0  \n",
      "3002   0.0  0.0  0.0  \n",
      "\n",
      "[5 rows x 187 columns]\n",
      "<class 'pandas.core.frame.DataFrame'>\n",
      "Int64Index: 100000 entries, 17155 to 86696\n",
      "Columns: 187 entries, 0 to 186\n",
      "dtypes: float64(187)\n",
      "memory usage: 143.4 MB\n",
      "None\n",
      "--- testy ---\n"
     ]
    }
   ],
   "source": [
    "\n",
    "\n",
    "from keras.utils import to_categorical\n",
    "\n",
    "print(\"--- X ---\")\n",
    "# X = mit_train_data.loc[:, mit_train_data.columns != 187]\n",
    "X = train_df.loc[:, mit_train_data.columns != 187]\n",
    "print(X.head())\n",
    "print(X.info())\n",
    "\n",
    "print(\"--- Y ---\")\n",
    "# y = mit_train_data.loc[:, mit_train_data.columns == 187]\n",
    "y = train_df.loc[:, mit_train_data.columns == 187]\n",
    "y = to_categorical(y)\n",
    "\n",
    "print(\"--- testX ---\")\n",
    "#testX = mit_test_data.loc[:, mit_test_data.columns != 187]\n",
    "testX = test_df.loc[:, mit_test_data.columns != 187]\n",
    "print(testX.head())\n",
    "print(testX.info())\n",
    "\n",
    "print(\"--- testy ---\")\n",
    "#testy = mit_test_data.loc[:, mit_test_data.columns == 187]\n",
    "testy = test_df.loc[:, mit_test_data.columns == 187]\n",
    "testy = to_categorical(testy)"
   ]
  },
  {
   "cell_type": "code",
   "execution_count": 10,
   "metadata": {
    "execution": {
     "iopub.execute_input": "2022-03-14T21:24:19.977693Z",
     "iopub.status.busy": "2022-03-14T21:24:19.976902Z",
     "iopub.status.idle": "2022-03-14T21:24:19.994031Z",
     "shell.execute_reply": "2022-03-14T21:24:19.992741Z",
     "shell.execute_reply.started": "2022-03-14T21:24:19.977324Z"
    }
   },
   "outputs": [],
   "source": [
    "def identity_block(X, f, filters, stage, block):\n",
    "   \n",
    "    conv_name_base = 'res' + str(stage) + block + '_branch'\n",
    "    bn_name_base = 'bn' + str(stage) + block + '_branch'\n",
    "    F1, F2, F3 = filters\n",
    "\n",
    "    X_shortcut = X\n",
    "   \n",
    "    X = Conv1D(filters=F1, kernel_size=1, strides=1, padding='valid', name=conv_name_base + '2a', kernel_initializer=glorot_uniform(seed=0))(X)\n",
    "    X = BatchNormalization(axis=2, name=bn_name_base + '2a')(X)\n",
    "    X = Activation('relu')(X)\n",
    "\n",
    "    X = Conv1D(filters=F2, kernel_size=f, strides=1, padding='same', name=conv_name_base + '2b', kernel_initializer=glorot_uniform(seed=0))(X)\n",
    "    X = BatchNormalization(axis=2, name=bn_name_base + '2b')(X)\n",
    "    X = Activation('relu')(X)\n",
    "\n",
    "    X = Conv1D(filters=F3, kernel_size=1, strides=1, padding='valid', name=conv_name_base + '2c', kernel_initializer=glorot_uniform(seed=0))(X)\n",
    "    X = BatchNormalization(axis=2, name=bn_name_base + '2c')(X)\n",
    "\n",
    "    X = Add()([X, X_shortcut])# SKIP Connection\n",
    "    X = Activation('relu')(X)\n",
    "\n",
    "    return X"
   ]
  },
  {
   "cell_type": "code",
   "execution_count": 11,
   "metadata": {
    "execution": {
     "iopub.execute_input": "2022-03-14T21:24:19.996126Z",
     "iopub.status.busy": "2022-03-14T21:24:19.995666Z",
     "iopub.status.idle": "2022-03-14T21:24:20.061883Z",
     "shell.execute_reply": "2022-03-14T21:24:20.060435Z",
     "shell.execute_reply.started": "2022-03-14T21:24:19.996063Z"
    }
   },
   "outputs": [],
   "source": [
    "def convolutional_block(X, f, filters, stage, block, s=2):\n",
    "   \n",
    "    conv_name_base = 'res' + str(stage) + block + '_branch'\n",
    "    bn_name_base = 'bn' + str(stage) + block + '_branch'\n",
    "\n",
    "    F1, F2, F3 = filters\n",
    "\n",
    "    X_shortcut = X\n",
    "\n",
    "    X = Conv1D(filters=F1, kernel_size=1, strides=s, padding='valid', name=conv_name_base + '2a', kernel_initializer=glorot_uniform(seed=0))(X)\n",
    "    X = BatchNormalization(axis=2, name=bn_name_base + '2a')(X)\n",
    "    X = Activation('relu')(X)\n",
    "\n",
    "    X = Conv1D(filters=F2, kernel_size=f, strides=1, padding='same', name=conv_name_base + '2b', kernel_initializer=glorot_uniform(seed=0))(X)\n",
    "    X = BatchNormalization(axis=2, name=bn_name_base + '2b')(X)\n",
    "    X = Activation('relu')(X)\n",
    "\n",
    "    X = Conv1D(filters=F3, kernel_size=1, strides=1, padding='valid', name=conv_name_base + '2c', kernel_initializer=glorot_uniform(seed=0))(X)\n",
    "    X = BatchNormalization(axis=2, name=bn_name_base + '2c')(X)\n",
    "\n",
    "    X_shortcut = Conv1D(filters=F3, kernel_size=1, strides=s, padding='valid', name=conv_name_base + '1', kernel_initializer=glorot_uniform(seed=0))(X_shortcut)\n",
    "    X_shortcut = BatchNormalization(axis=2, name=bn_name_base + '1')(X_shortcut)\n",
    "\n",
    "    X = Add()([X, X_shortcut])\n",
    "    X = Activation('relu')(X)\n",
    "\n",
    "    return X\n",
    "    X_input = Input(input_shape)\n",
    "\n",
    "    X = ZeroPadding1D(3)(X_input)\n",
    "\n",
    "    X = Conv1D(64, 7, strides=2, name='conv1', kernel_initializer=glorot_uniform(seed=0))(X)\n",
    "    X = BatchNormalization(axis=2, name='bn_conv1')(X)\n",
    "    X = Activation('relu')(X)\n",
    "    X = MaxPooling1D(3, strides= 2)(X)\n",
    "\n",
    "    X = convolutional_block(X, f=3, filters=[128, 128, 256], stage=2, block='a', s=1)\n",
    "    X = identity_block(X, 3, [128, 128, 256], stage=2, block='b')\n",
    "    X = identity_block(X, 3, [128, 128, 256], stage=2, block='c')\n",
    "\n",
    "\n",
    "    X = convolutional_block(X, f=3, filters=[128, 128, 512], stage=3, block='a', s=2)\n",
    "    X = identity_block(X, 3, [128, 128, 512], stage=3, block='b')\n",
    "    X = identity_block(X, 3, [128, 128, 512], stage=3, block='c')\n",
    "    X = identity_block(X, 3, [128, 128, 512], stage=3, block='d')\n",
    "\n",
    "    X = convolutional_block(X, f=3, filters=[256, 256, 1024], stage=4, block='a', s=2)\n",
    "    X = identity_block(X, 3, [256, 256, 1024], stage=4, block='b')\n",
    "    X = identity_block(X, 3, [256, 256, 1024], stage=4, block='c')\n",
    "    X = identity_block(X, 3, [256, 256, 1024], stage=4, block='d')\n",
    "    X = identity_block(X, 3, [256, 256, 1024], stage=4, block='e')\n",
    "    X = identity_block(X, 3, [256, 256, 1024], stage=4, block='f')\n",
    "\n",
    "    X = X = convolutional_block(X, f=3, filters=[512, 512, 2048], stage=5, block='a', s=2)\n",
    "    X = identity_block(X, 3, [512, 512, 2048], stage=5, block='b')\n",
    "    X = identity_block(X, 3, [512, 512, 2048], stage=5, block='c')\n",
    "\n",
    "    X = AveragePooling1D(pool_size= 2, padding='same')(X)\n",
    "    \n",
    "    model = Model(inputs=X_input, outputs=X, name='ResNet')\n",
    "    \n",
    "    \n",
    "    \n",
    "    model.add(Conv1D(32,7, padding='same', input_shape=input_shape))\n",
    "    model.add(BatchNormalization())\n",
    "    model.add(tf.keras.layers.ReLU())\n",
    "    model.add(MaxPool1D(5,padding='same'))\n",
    "\n",
    "    model.add(Conv1D(64,7, padding='same'))\n",
    "    model.add(BatchNormalization())\n",
    "    model.add(tf.keras.layers.ReLU())\n",
    "    model.add(MaxPool1D(5,padding='same'))\n",
    "\n",
    "    model.add(Conv1D(128,7, padding='same'))\n",
    "    model.add(BatchNormalization())\n",
    "    model.add(tf.keras.layers.ReLU())\n",
    "    model.add(MaxPool1D(5,padding='same'))\n",
    "\n",
    "    model.add(Conv1D(256,7, padding='same'))\n",
    "    model.add(BatchNormalization())\n",
    "    model.add(tf.keras.layers.ReLU())\n",
    "    model.add(MaxPool1D(5,padding='same'))\n",
    "    \n",
    "    model.add(Conv1D(512,7, padding='same'))\n",
    "    model.add(BatchNormalization())\n",
    "    model.add(tf.keras.layers.ReLU())\n",
    "    model.add(MaxPool1D(5,padding='same'))\n",
    "\n",
    "    model.add(Flatten())\n",
    "    model.add(Dense(512, activation='relu'))\n",
    "    model.add(Dropout(0.5))\n",
    "    model.add(Dense(256, activation='relu'))\n",
    "    model.add(Dropout(0.5))\n",
    "    model.add(Dense(128, activation='relu'))\n",
    "    model.add(Dropout(0.5))\n",
    "    model.add(Dense(64, activation='relu'))\n",
    "    model.add(Dense(32, activation='relu'))\n",
    "    model.add(Dense(5, activation=\"softmax\"))\n",
    "    model.compile(optimizer=\"adam\", loss=\"categorical_crossentropy\", metrics=[tfa.metrics.F1Score(5,\"micro\")])\n",
    "    \n",
    "    return model\n"
   ]
  },
  {
   "cell_type": "code",
   "execution_count": 12,
   "metadata": {
    "execution": {
     "iopub.execute_input": "2022-03-14T21:24:20.064267Z",
     "iopub.status.busy": "2022-03-14T21:24:20.063568Z",
     "iopub.status.idle": "2022-03-14T21:26:02.954778Z",
     "shell.execute_reply": "2022-03-14T21:26:02.953756Z",
     "shell.execute_reply.started": "2022-03-14T21:24:20.064192Z"
    }
   },
   "outputs": [
    {
     "name": "stdout",
     "output_type": "stream",
     "text": [
      "Epoch 1/20\n",
      "100000/100000 [==============================] - 5s 53us/step - loss: 0.4708 - accuracy: 0.8296\n",
      "Epoch 2/20\n",
      "100000/100000 [==============================] - 5s 50us/step - loss: 0.2865 - accuracy: 0.8946\n",
      "Epoch 3/20\n",
      "100000/100000 [==============================] - 5s 53us/step - loss: 0.2268 - accuracy: 0.9179\n",
      "Epoch 4/20\n",
      "100000/100000 [==============================] - 5s 50us/step - loss: 0.1906 - accuracy: 0.9319\n",
      "Epoch 5/20\n",
      "100000/100000 [==============================] - 5s 53us/step - loss: 0.1674 - accuracy: 0.9400\n",
      "Epoch 6/20\n",
      "100000/100000 [==============================] - 5s 50us/step - loss: 0.1479 - accuracy: 0.9485\n",
      "Epoch 7/20\n",
      "100000/100000 [==============================] - 5s 54us/step - loss: 0.1343 - accuracy: 0.9541\n",
      "Epoch 8/20\n",
      "100000/100000 [==============================] - 5s 51us/step - loss: 0.1227 - accuracy: 0.9583\n",
      "Epoch 9/20\n",
      "100000/100000 [==============================] - 5s 50us/step - loss: 0.1145 - accuracy: 0.9612\n",
      "Epoch 10/20\n",
      "100000/100000 [==============================] - 5s 50us/step - loss: 0.1044 - accuracy: 0.9647\n",
      "Epoch 11/20\n",
      "100000/100000 [==============================] - 5s 53us/step - loss: 0.0979 - accuracy: 0.9672\n",
      "Epoch 12/20\n",
      "100000/100000 [==============================] - 5s 49us/step - loss: 0.0919 - accuracy: 0.9691\n",
      "Epoch 13/20\n",
      "100000/100000 [==============================] - 5s 51us/step - loss: 0.0860 - accuracy: 0.9714\n",
      "Epoch 14/20\n",
      "100000/100000 [==============================] - 5s 50us/step - loss: 0.0824 - accuracy: 0.9728\n",
      "Epoch 15/20\n",
      "100000/100000 [==============================] - 5s 51us/step - loss: 0.0766 - accuracy: 0.9743\n",
      "Epoch 16/20\n",
      "100000/100000 [==============================] - 6s 56us/step - loss: 0.0737 - accuracy: 0.9760\n",
      "Epoch 17/20\n",
      "100000/100000 [==============================] - 5s 55us/step - loss: 0.0717 - accuracy: 0.9760\n",
      "Epoch 18/20\n",
      "100000/100000 [==============================] - 5s 50us/step - loss: 0.0671 - accuracy: 0.9780\n",
      "Epoch 19/20\n",
      "100000/100000 [==============================] - 5s 51us/step - loss: 0.0647 - accuracy: 0.9785\n",
      "Epoch 20/20\n",
      "100000/100000 [==============================] - 5s 52us/step - loss: 0.0619 - accuracy: 0.9796\n",
      "Evaluation: \n",
      "100000/100000 [==============================] - 2s 24us/step\n",
      "mean_squared_error : 0.07681788502215176\n",
      "accuracy: 0.9788900017738342\n"
     ]
    }
   ],
   "source": [
    "# create the model.\n",
    "from keras.callbacks import History \n",
    "history = History()\n",
    "embedding_vecor_length = 187\n",
    "\n",
    "model = Sequential()\n",
    "\n",
    "model.add(Dense(50, activation='relu', input_shape=(187,)))\n",
    "model.add(Dense(50, activation='relu'))\n",
    "model.add(Dense(5, activation='softmax'))\n",
    "\n",
    "model.compile(optimizer='adam',\n",
    "              loss='categorical_crossentropy',\n",
    "              metrics=['accuracy'])\n",
    "\n",
    "history=model.fit(X, y, epochs=20)\n",
    "\n",
    "print(\"Evaluation: \")\n",
    "mse, acc = model.evaluate(testX, testy)\n",
    "print('mean_squared_error :', mse)\n",
    "print('accuracy:', acc)\n",
    "\n",
    "\n",
    "\n",
    "#model = Sequential()\n",
    "#model = Bidirectional(model)\n",
    "\n",
    "#model.add(Embedding(1000, embedding_vecor_length, input_length=187))\n",
    "#model.add(LSTM(187))\n",
    "#model.add(Dense(5, activation='softmax'))\n",
    "#model.compile(loss='categorical_crossentropy', optimizer='adam', metrics=['accuracy'])\n",
    "#print(model.summary())\n",
    "#history = model.fit(X, y, validation_data=(testX, testy), epochs=3, batch_size=8)\n",
    "\n",
    "\n",
    "#Dropout is a powerful technique for combating overfitting in your LSTM models \n",
    "#model = Sequential()\n",
    "#model.add(Embedding(1000, embedding_vecor_length, input_length=187))\n",
    "#model.add(LSTM(50, dropout=0.001, recurrent_dropout=0.001))\n",
    "#model.add(Dense(5, activation='softmax'))\n",
    "#model.compile(loss='categorical_crossentropy', optimizer='adam', metrics=['accuracy'])\n",
    "#print(model.summary())\n",
    "#history = model.fit(X, y, validation_data=(testX, testy), epochs=50, batch_size=128)\n",
    "\n",
    "\n",
    "\n",
    "## SAVE MODEL ##\n",
    "# serialize model to JSON\n",
    "#model_json = model.to_json()\n",
    "#with open(\"1model.json\", \"w\") as json_file:\n",
    " #   json_file.write(model_json)\n",
    "# serialize weights to HDF5\n",
    "#model.save_weights(\"1model.h5\")\n",
    "#print(\"Saved model to disk\")"
   ]
  },
  {
   "cell_type": "markdown",
   "metadata": {},
   "source": [
    "## Evaluate Model"
   ]
  },
  {
   "cell_type": "raw",
   "metadata": {},
   "source": [
    "mse, acc = model.evaluate(testX, testy)\n",
    "print('mean_squared_error :', mse)\n",
    "print('accuracy:', acc)"
   ]
  },
  {
   "cell_type": "code",
   "execution_count": 13,
   "metadata": {
    "execution": {
     "iopub.execute_input": "2022-03-14T21:26:02.957209Z",
     "iopub.status.busy": "2022-03-14T21:26:02.956815Z",
     "iopub.status.idle": "2022-03-14T21:26:03.750235Z",
     "shell.execute_reply": "2022-03-14T21:26:03.749078Z",
     "shell.execute_reply.started": "2022-03-14T21:26:02.957150Z"
    }
   },
   "outputs": [
    {
     "name": "stdout",
     "output_type": "stream",
     "text": [
      "dict_keys(['loss', 'accuracy'])\n"
     ]
    },
    {
     "data": {
      "image/png": "[encoded data removed]",
      "text/plain": [
       "<Figure size 432x288 with 1 Axes>"
      ]
     },
     "metadata": {
      "needs_background": "light"
     },
     "output_type": "display_data"
    },
    {
     "data": {
      "image/png": "[encoded data removed]",
      "text/plain": [
       "<Figure size 432x288 with 1 Axes>"
      ]
     },
     "metadata": {
      "needs_background": "light"
     },
     "output_type": "display_data"
    }
   ],
   "source": [
    "# list all data in history\n",
    "print(history.history.keys())\n",
    "# summarize history for accuracy\n",
    "plt.plot(history.history['accuracy'])\n",
    "plt.title('model accuracy')\n",
    "plt.ylabel('accuracy')\n",
    "plt.xlabel('epoch')\n",
    "plt.legend(['train', 'test'], loc='upper left')\n",
    "plt.show()\n",
    "# summarize history for loss\n",
    "plt.plot(history.history['loss'])\n",
    "\n",
    "plt.title('model loss')\n",
    "plt.ylabel('loss')\n",
    "plt.xlabel('epoch')\n",
    "plt.legend(['train', 'test'], loc='upper left')\n",
    "plt.show()\n",
    "\n"
   ]
  },
  {
   "cell_type": "markdown",
   "metadata": {},
   "source": [
    "## Αccuracy and prediction scores"
   ]
  },
  {
   "cell_type": "code",
   "execution_count": 14,
   "metadata": {
    "execution": {
     "iopub.execute_input": "2022-03-14T21:26:03.752895Z",
     "iopub.status.busy": "2022-03-14T21:26:03.752167Z",
     "iopub.status.idle": "2022-03-14T21:26:04.198833Z",
     "shell.execute_reply": "2022-03-14T21:26:04.197628Z",
     "shell.execute_reply.started": "2022-03-14T21:26:03.752812Z"
    }
   },
   "outputs": [
    {
     "name": "stdout",
     "output_type": "stream",
     "text": [
      "              precision    recall  f1-score   support\n",
      "\n",
      "           0       0.96      0.95      0.96     16569\n",
      "           1       0.98      0.98      0.98     20513\n",
      "           2       0.98      0.98      0.98     21320\n",
      "           3       0.97      1.00      0.99     20147\n",
      "           4       1.00      0.98      0.99     21451\n",
      "\n",
      "    accuracy                           0.98    100000\n",
      "   macro avg       0.98      0.98      0.98    100000\n",
      "weighted avg       0.98      0.98      0.98    100000\n",
      "\n"
     ]
    }
   ],
   "source": [
    "y_pred = model.predict(testX, batch_size=1000)\n",
    "\n",
    "from sklearn.metrics import accuracy_score, classification_report, confusion_matrix, label_ranking_average_precision_score, label_ranking_loss, coverage_error \n",
    "\n",
    "print(classification_report(testy.argmax(axis=1), y_pred.argmax(axis=1)))"
   ]
  },
  {
   "cell_type": "code",
   "execution_count": 15,
   "metadata": {
    "execution": {
     "iopub.execute_input": "2022-03-14T21:26:04.201260Z",
     "iopub.status.busy": "2022-03-14T21:26:04.200570Z",
     "iopub.status.idle": "2022-03-14T21:26:04.209481Z",
     "shell.execute_reply": "2022-03-14T21:26:04.208636Z",
     "shell.execute_reply.started": "2022-03-14T21:26:04.201196Z"
    }
   },
   "outputs": [],
   "source": [
    "test.to_csv(\"new_data.csv\")"
   ]
  },
  {
   "cell_type": "code",
   "execution_count": null,
   "metadata": {},
   "outputs": [],
   "source": []
  },
  {
   "cell_type": "markdown",
   "metadata": {},
   "source": []
  }
 ],
 "metadata": {
  "kernelspec": {
   "display_name": "Python 3",
   "language": "python",
   "name": "python3"
  },
  "language_info": {
   "codemirror_mode": {
    "name": "ipython",
    "version": 3
   },
   "file_extension": ".py",
   "mimetype": "text/x-python",
   "name": "python",
   "nbconvert_exporter": "python",
   "pygments_lexer": "ipython3",
   "version": "3.6.6"
  }
 },
 "nbformat": 4,
 "nbformat_minor": 4
}
