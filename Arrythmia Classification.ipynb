{
 "cells": [
  {
   "cell_type": "code",
   "execution_count": 1,
   "id": "770c793b",
   "metadata": {
    "_cell_guid": "b1076dfc-b9ad-4769-8c92-a6c4dae69d19",
    "_uuid": "8f2839f25d086af736a60e9eeb907d3b93b6e0e5",
    "execution": {
     "iopub.execute_input": "2022-04-12T06:16:44.594689Z",
     "iopub.status.busy": "2022-04-12T06:16:44.592681Z",
     "iopub.status.idle": "2022-04-12T06:16:44.616538Z",
     "shell.execute_reply": "2022-04-12T06:16:44.615375Z",
     "shell.execute_reply.started": "2022-04-11T20:47:18.864926Z"
    },
    "papermill": {
     "duration": 0.052875,
     "end_time": "2022-04-12T06:16:44.616803",
     "exception": false,
     "start_time": "2022-04-12T06:16:44.563928",
     "status": "completed"
    },
    "tags": []
   },
   "outputs": [
    {
     "name": "stdout",
     "output_type": "stream",
     "text": [
      "/kaggle/input/newdataset6/new6_data (1).csv\n"
     ]
    }
   ],
   "source": [
    "# This Python 3 environment comes with many helpful analytics libraries installed\n",
    "# It is defined by the kaggle/python Docker image: https://github.com/kaggle/docker-python\n",
    "# For example, here's several helpful packages to load\n",
    "\n",
    "import numpy as np # linear algebra\n",
    "import pandas as pd # data processing, CSV file I/O (e.g. pd.read_csv)\n",
    "\n",
    "# Input data files are available in the read-only \"../input/\" directory\n",
    "# For example, running this (by clicking run or pressing Shift+Enter) will list all files under the input directory\n",
    "\n",
    "import os\n",
    "for dirname, _, filenames in os.walk('/kaggle/input'):\n",
    "    for filename in filenames:\n",
    "        print(os.path.join(dirname, filename))\n",
    "\n",
    "# You can write up to 20GB to the current directory (/kaggle/working/) that gets preserved as output when you create a version using \"Save & Run All\" \n",
    "# You can also write temporary files to /kaggle/temp/, but they won't be saved outside of the current session"
   ]
  },
  {
   "cell_type": "code",
   "execution_count": 2,
   "id": "7d08d445",
   "metadata": {
    "execution": {
     "iopub.execute_input": "2022-04-12T06:16:44.691831Z",
     "iopub.status.busy": "2022-04-12T06:16:44.684786Z",
     "iopub.status.idle": "2022-04-12T06:16:46.680342Z",
     "shell.execute_reply": "2022-04-12T06:16:46.681336Z",
     "shell.execute_reply.started": "2022-04-11T20:47:18.880760Z"
    },
    "papermill": {
     "duration": 2.030193,
     "end_time": "2022-04-12T06:16:46.681675",
     "exception": false,
     "start_time": "2022-04-12T06:16:44.651482",
     "status": "completed"
    },
    "tags": []
   },
   "outputs": [
    {
     "name": "stdout",
     "output_type": "stream",
     "text": [
      "[nltk_data] Downloading package stopwords to /usr/share/nltk_data...\n",
      "[nltk_data]   Package stopwords is already up-to-date!\n"
     ]
    }
   ],
   "source": [
    "import re\n",
    "import matplotlib.pyplot as plt\n",
    "from nltk.corpus import stopwords\n",
    "from nltk.stem import PorterStemmer\n",
    "from sklearn.feature_extraction.text import TfidfVectorizer\n",
    "from sklearn.pipeline import Pipeline\n",
    "from sklearn.metrics import classification_report, confusion_matrix\n",
    "from sklearn.model_selection import train_test_split\n",
    "from sklearn.feature_selection import SelectKBest, chi2\n",
    "from sqlite3 import Error\n",
    "from sklearn.ensemble import RandomForestClassifier\n",
    "import sqlite3\n",
    "import pickle\n",
    "import nltk\n",
    "nltk.download('stopwords')\n",
    "%matplotlib inline"
   ]
  },
  {
   "cell_type": "code",
   "execution_count": 3,
   "id": "cbeb1d3c",
   "metadata": {
    "execution": {
     "iopub.execute_input": "2022-04-12T06:16:46.734964Z",
     "iopub.status.busy": "2022-04-12T06:16:46.733926Z",
     "iopub.status.idle": "2022-04-12T06:16:53.156375Z",
     "shell.execute_reply": "2022-04-12T06:16:53.155317Z",
     "shell.execute_reply.started": "2022-04-11T20:47:20.683005Z"
    },
    "papermill": {
     "duration": 6.449485,
     "end_time": "2022-04-12T06:16:53.156563",
     "exception": false,
     "start_time": "2022-04-12T06:16:46.707078",
     "status": "completed"
    },
    "tags": []
   },
   "outputs": [
    {
     "name": "stderr",
     "output_type": "stream",
     "text": [
      "/opt/conda/lib/python3.7/site-packages/IPython/core/interactiveshell.py:3457: DtypeWarning: Columns (1,2,7,8,9,10,15,16,17,18,19,20) have mixed types.Specify dtype option on import or set low_memory=False.\n",
      "  exec(code_obj, self.user_global_ns, self.user_ns)\n"
     ]
    }
   ],
   "source": [
    "data = '../input/newdataset6/new6_data (1).csv'\n",
    "\n",
    "df = pd.read_csv(data, header=None)"
   ]
  },
  {
   "cell_type": "code",
   "execution_count": 4,
   "id": "aec7f3d1",
   "metadata": {
    "execution": {
     "iopub.execute_input": "2022-04-12T06:16:53.210729Z",
     "iopub.status.busy": "2022-04-12T06:16:53.209763Z",
     "iopub.status.idle": "2022-04-12T06:16:57.377446Z",
     "shell.execute_reply": "2022-04-12T06:16:57.377966Z",
     "shell.execute_reply.started": "2022-04-11T20:47:25.977011Z"
    },
    "papermill": {
     "duration": 4.196709,
     "end_time": "2022-04-12T06:16:57.378131",
     "exception": false,
     "start_time": "2022-04-12T06:16:53.181422",
     "status": "completed"
    },
    "tags": []
   },
   "outputs": [
    {
     "data": {
      "text/html": [
       "<div>\n",
       "<style scoped>\n",
       "    .dataframe tbody tr th:only-of-type {\n",
       "        vertical-align: middle;\n",
       "    }\n",
       "\n",
       "    .dataframe tbody tr th {\n",
       "        vertical-align: top;\n",
       "    }\n",
       "\n",
       "    .dataframe thead th {\n",
       "        text-align: right;\n",
       "    }\n",
       "</style>\n",
       "<table border=\"1\" class=\"dataframe\">\n",
       "  <thead>\n",
       "    <tr style=\"text-align: right;\">\n",
       "      <th></th>\n",
       "      <th>Unnamed: 0</th>\n",
       "      <th>Unnamed: 0.1</th>\n",
       "      <th>Unnamed: 0.1.1</th>\n",
       "      <th>user_name</th>\n",
       "      <th>user_location</th>\n",
       "      <th>user_description</th>\n",
       "      <th>user_created</th>\n",
       "      <th>user_followers</th>\n",
       "      <th>user_friends</th>\n",
       "      <th>user_favourites</th>\n",
       "      <th>...</th>\n",
       "      <th>text</th>\n",
       "      <th>hashtags</th>\n",
       "      <th>source</th>\n",
       "      <th>is_retweet</th>\n",
       "      <th>Positive</th>\n",
       "      <th>Negative</th>\n",
       "      <th>Neutral</th>\n",
       "      <th>Compound</th>\n",
       "      <th>Sentiment</th>\n",
       "      <th>cleaned</th>\n",
       "    </tr>\n",
       "  </thead>\n",
       "  <tbody>\n",
       "    <tr>\n",
       "      <th>0</th>\n",
       "      <td>0</td>\n",
       "      <td>0</td>\n",
       "      <td>0</td>\n",
       "      <td>MyNewsNE</td>\n",
       "      <td>Assam</td>\n",
       "      <td>MyNewsNE a dedicated multi-lingual media house...</td>\n",
       "      <td>24-05-2020 10:18</td>\n",
       "      <td>64.0</td>\n",
       "      <td>11.0</td>\n",
       "      <td>110.0</td>\n",
       "      <td>...</td>\n",
       "      <td>Australia to Manufacture Covid-19 Vaccine and ...</td>\n",
       "      <td>['CovidVaccine']</td>\n",
       "      <td>Twitter Web App</td>\n",
       "      <td>False</td>\n",
       "      <td>0.148</td>\n",
       "      <td>0.000</td>\n",
       "      <td>0.852</td>\n",
       "      <td>0.5106</td>\n",
       "      <td>1</td>\n",
       "      <td>australia manufactur covid vaccin give citizen...</td>\n",
       "    </tr>\n",
       "    <tr>\n",
       "      <th>1</th>\n",
       "      <td>1</td>\n",
       "      <td>1</td>\n",
       "      <td>7</td>\n",
       "      <td>AKisASocialisolationist wash yer damn hands</td>\n",
       "      <td>The Great Pacific Northwest</td>\n",
       "      <td>Iconoclast, cat person, soccer fan, textile &amp; ...</td>\n",
       "      <td>07-02-2015 07:24</td>\n",
       "      <td>2321.0</td>\n",
       "      <td>3236.0</td>\n",
       "      <td>264351.0</td>\n",
       "      <td>...</td>\n",
       "      <td>@MSNBC Well, let’s qualify that: would anyone ...</td>\n",
       "      <td>['CovidVaccine']</td>\n",
       "      <td>Twitter for iPhone</td>\n",
       "      <td>False</td>\n",
       "      <td>0.202</td>\n",
       "      <td>0.000</td>\n",
       "      <td>0.798</td>\n",
       "      <td>0.5859</td>\n",
       "      <td>1</td>\n",
       "      <td>msnbc well let qualifi would anyon parti get v...</td>\n",
       "    </tr>\n",
       "    <tr>\n",
       "      <th>2</th>\n",
       "      <td>2</td>\n",
       "      <td>2</td>\n",
       "      <td>8</td>\n",
       "      <td>Dr. Joseph Santoro</td>\n",
       "      <td>Washington, DC 20009</td>\n",
       "      <td>Neuro PhD, #Innovator, #Technologist, #Startup...</td>\n",
       "      <td>17-01-2009 21:10</td>\n",
       "      <td>19091.0</td>\n",
       "      <td>20986.0</td>\n",
       "      <td>128119.0</td>\n",
       "      <td>...</td>\n",
       "      <td>Most countries, without the ability to make #V...</td>\n",
       "      <td>['Vaccines']</td>\n",
       "      <td>Hootsuite Inc.</td>\n",
       "      <td>False</td>\n",
       "      <td>0.098</td>\n",
       "      <td>0.195</td>\n",
       "      <td>0.707</td>\n",
       "      <td>-0.3532</td>\n",
       "      <td>-1</td>\n",
       "      <td>most countri without abil make vaccin local fo...</td>\n",
       "    </tr>\n",
       "    <tr>\n",
       "      <th>3</th>\n",
       "      <td>3</td>\n",
       "      <td>3</td>\n",
       "      <td>9</td>\n",
       "      <td>VUMC OAP</td>\n",
       "      <td>Nashville, TN</td>\n",
       "      <td>Office of Advanced Practice, Vanderbilt Univer...</td>\n",
       "      <td>16-03-2017 20:22</td>\n",
       "      <td>282.0</td>\n",
       "      <td>96.0</td>\n",
       "      <td>788.0</td>\n",
       "      <td>...</td>\n",
       "      <td>#DNA  zooms up charts in 1st week; hear #vacci...</td>\n",
       "      <td>['DNA', 'vaccines', 'pandemic', 'COVID19', 'Co...</td>\n",
       "      <td>Twitter Web App</td>\n",
       "      <td>False</td>\n",
       "      <td>0.000</td>\n",
       "      <td>0.000</td>\n",
       "      <td>1.000</td>\n",
       "      <td>0.0000</td>\n",
       "      <td>0</td>\n",
       "      <td>dna zoom chart st week hear vaccin episod http...</td>\n",
       "    </tr>\n",
       "    <tr>\n",
       "      <th>4</th>\n",
       "      <td>4</td>\n",
       "      <td>4</td>\n",
       "      <td>11</td>\n",
       "      <td>Mohammadali Naseri</td>\n",
       "      <td>TEHRAN</td>\n",
       "      <td>MSc in Numerical Analysis from the Kharazmi Un...</td>\n",
       "      <td>02-02-2018 17:20</td>\n",
       "      <td>4.0</td>\n",
       "      <td>88.0</td>\n",
       "      <td>90.0</td>\n",
       "      <td>...</td>\n",
       "      <td>it’s over?!\\n\\n#Covid19Millionares #covid19 \\n...</td>\n",
       "      <td>['Covid19Millionares', 'covid19', 'corona', 'C...</td>\n",
       "      <td>Twitter for iPhone</td>\n",
       "      <td>False</td>\n",
       "      <td>0.000</td>\n",
       "      <td>0.000</td>\n",
       "      <td>1.000</td>\n",
       "      <td>0.0000</td>\n",
       "      <td>0</td>\n",
       "      <td>covid millionar covid corona covidvaccin</td>\n",
       "    </tr>\n",
       "  </tbody>\n",
       "</table>\n",
       "<p>5 rows × 22 columns</p>\n",
       "</div>"
      ],
      "text/plain": [
       "   Unnamed: 0  Unnamed: 0.1  Unnamed: 0.1.1  \\\n",
       "0           0             0               0   \n",
       "1           1             1               7   \n",
       "2           2             2               8   \n",
       "3           3             3               9   \n",
       "4           4             4              11   \n",
       "\n",
       "                                     user_name                user_location  \\\n",
       "0                                     MyNewsNE                        Assam   \n",
       "1  AKisASocialisolationist wash yer damn hands  The Great Pacific Northwest   \n",
       "2                           Dr. Joseph Santoro         Washington, DC 20009   \n",
       "3                                     VUMC OAP                Nashville, TN   \n",
       "4                           Mohammadali Naseri                       TEHRAN   \n",
       "\n",
       "                                    user_description      user_created  \\\n",
       "0  MyNewsNE a dedicated multi-lingual media house...  24-05-2020 10:18   \n",
       "1  Iconoclast, cat person, soccer fan, textile & ...  07-02-2015 07:24   \n",
       "2  Neuro PhD, #Innovator, #Technologist, #Startup...  17-01-2009 21:10   \n",
       "3  Office of Advanced Practice, Vanderbilt Univer...  16-03-2017 20:22   \n",
       "4  MSc in Numerical Analysis from the Kharazmi Un...  02-02-2018 17:20   \n",
       "\n",
       "   user_followers  user_friends  user_favourites  ...  \\\n",
       "0            64.0          11.0            110.0  ...   \n",
       "1          2321.0        3236.0         264351.0  ...   \n",
       "2         19091.0       20986.0         128119.0  ...   \n",
       "3           282.0          96.0            788.0  ...   \n",
       "4             4.0          88.0             90.0  ...   \n",
       "\n",
       "                                                text  \\\n",
       "0  Australia to Manufacture Covid-19 Vaccine and ...   \n",
       "1  @MSNBC Well, let’s qualify that: would anyone ...   \n",
       "2  Most countries, without the ability to make #V...   \n",
       "3  #DNA  zooms up charts in 1st week; hear #vacci...   \n",
       "4  it’s over?!\\n\\n#Covid19Millionares #covid19 \\n...   \n",
       "\n",
       "                                            hashtags              source  \\\n",
       "0                                   ['CovidVaccine']     Twitter Web App   \n",
       "1                                   ['CovidVaccine']  Twitter for iPhone   \n",
       "2                                       ['Vaccines']      Hootsuite Inc.   \n",
       "3  ['DNA', 'vaccines', 'pandemic', 'COVID19', 'Co...     Twitter Web App   \n",
       "4  ['Covid19Millionares', 'covid19', 'corona', 'C...  Twitter for iPhone   \n",
       "\n",
       "  is_retweet Positive  Negative  Neutral  Compound  Sentiment  \\\n",
       "0      False    0.148     0.000    0.852    0.5106          1   \n",
       "1      False    0.202     0.000    0.798    0.5859          1   \n",
       "2      False    0.098     0.195    0.707   -0.3532         -1   \n",
       "3      False    0.000     0.000    1.000    0.0000          0   \n",
       "4      False    0.000     0.000    1.000    0.0000          0   \n",
       "\n",
       "                                             cleaned  \n",
       "0  australia manufactur covid vaccin give citizen...  \n",
       "1  msnbc well let qualifi would anyon parti get v...  \n",
       "2  most countri without abil make vaccin local fo...  \n",
       "3  dna zoom chart st week hear vaccin episod http...  \n",
       "4           covid millionar covid corona covidvaccin  \n",
       "\n",
       "[5 rows x 22 columns]"
      ]
     },
     "execution_count": 4,
     "metadata": {},
     "output_type": "execute_result"
    }
   ],
   "source": [
    "#load csv file\n",
    "Train = pd.read_csv('../input/newdataset6/new6_data (1).csv')\n",
    "data=Train\n",
    "data.head()"
   ]
  },
  {
   "cell_type": "code",
   "execution_count": 5,
   "id": "ab0409f7",
   "metadata": {
    "execution": {
     "iopub.execute_input": "2022-04-12T06:16:57.437076Z",
     "iopub.status.busy": "2022-04-12T06:16:57.436351Z",
     "iopub.status.idle": "2022-04-12T06:19:13.572344Z",
     "shell.execute_reply": "2022-04-12T06:19:13.571490Z",
     "shell.execute_reply.started": "2022-04-11T20:47:29.462934Z"
    },
    "papermill": {
     "duration": 136.168628,
     "end_time": "2022-04-12T06:19:13.572511",
     "exception": false,
     "start_time": "2022-04-12T06:16:57.403883",
     "status": "completed"
    },
    "tags": []
   },
   "outputs": [
    {
     "name": "stdout",
     "output_type": "stream",
     "text": [
      "[nltk_data] Downloading package stopwords to /usr/share/nltk_data...\n",
      "[nltk_data]   Package stopwords is already up-to-date!\n"
     ]
    }
   ],
   "source": [
    "nltk.download('stopwords')\n",
    "stemmer = PorterStemmer()\n",
    "words = stopwords.words(\"english\")\n",
    "Train['cleaned'] = Train['text'].apply(lambda x: \" \".join([stemmer.stem(i) for i in re.sub(\"[^a-zA-Z]\", \" \", x).split() if i not in words]).lower())"
   ]
  },
  {
   "cell_type": "code",
   "execution_count": 6,
   "id": "665749c0",
   "metadata": {
    "execution": {
     "iopub.execute_input": "2022-04-12T06:19:13.632751Z",
     "iopub.status.busy": "2022-04-12T06:19:13.632113Z",
     "iopub.status.idle": "2022-04-12T06:19:13.636700Z",
     "shell.execute_reply": "2022-04-12T06:19:13.637141Z",
     "shell.execute_reply.started": "2022-04-11T20:49:46.095097Z"
    },
    "papermill": {
     "duration": 0.039006,
     "end_time": "2022-04-12T06:19:13.637308",
     "exception": false,
     "start_time": "2022-04-12T06:19:13.598302",
     "status": "completed"
    },
    "tags": []
   },
   "outputs": [
    {
     "data": {
      "text/plain": [
       " 1    112009\n",
       " 0     82319\n",
       "-1     49696\n",
       "Name: Sentiment, dtype: int64"
      ]
     },
     "execution_count": 6,
     "metadata": {},
     "output_type": "execute_result"
    }
   ],
   "source": [
    "Train['Sentiment'].value_counts()"
   ]
  },
  {
   "cell_type": "code",
   "execution_count": 7,
   "id": "827af9ac",
   "metadata": {
    "execution": {
     "iopub.execute_input": "2022-04-12T06:19:13.692838Z",
     "iopub.status.busy": "2022-04-12T06:19:13.692155Z",
     "iopub.status.idle": "2022-04-12T06:19:14.087095Z",
     "shell.execute_reply": "2022-04-12T06:19:14.087625Z",
     "shell.execute_reply.started": "2022-04-11T20:49:46.112023Z"
    },
    "papermill": {
     "duration": 0.424252,
     "end_time": "2022-04-12T06:19:14.087797",
     "exception": false,
     "start_time": "2022-04-12T06:19:13.663545",
     "status": "completed"
    },
    "tags": []
   },
   "outputs": [
    {
     "data": {
      "text/plain": [
       "0         australia to manufacture covid-19 vaccine and ...\n",
       "1         @msnbc well, let’s qualify that: would anyone ...\n",
       "2         most countries, without the ability to make #v...\n",
       "3         #dna  zooms up charts in 1st week; hear #vacci...\n",
       "4         it’s over?!\\n\\n#covid19millionares #covid19 \\n...\n",
       "                                ...                        \n",
       "244019    #covidvaccine booster doses are now being offe...\n",
       "244020    may mrna vaccines put the virus mutations swif...\n",
       "244021    is this possible??? humans emitting a bluetoot...\n",
       "244022    medical #tyranny in germany… #covidvaccine? #j...\n",
       "244023    tension prevails as body of muslim youth kille...\n",
       "Name: text, Length: 244024, dtype: object"
      ]
     },
     "execution_count": 7,
     "metadata": {},
     "output_type": "execute_result"
    }
   ],
   "source": [
    "# Lowercase\n",
    "Train['text'] = Train['text'].str.lower()\n",
    "Train['text']"
   ]
  },
  {
   "cell_type": "code",
   "execution_count": 8,
   "id": "93e84129",
   "metadata": {
    "execution": {
     "iopub.execute_input": "2022-04-12T06:19:14.150593Z",
     "iopub.status.busy": "2022-04-12T06:19:14.149874Z",
     "iopub.status.idle": "2022-04-12T06:19:14.786406Z",
     "shell.execute_reply": "2022-04-12T06:19:14.786905Z",
     "shell.execute_reply.started": "2022-04-11T20:49:46.457252Z"
    },
    "papermill": {
     "duration": 0.672538,
     "end_time": "2022-04-12T06:19:14.787068",
     "exception": false,
     "start_time": "2022-04-12T06:19:14.114530",
     "status": "completed"
    },
    "tags": []
   },
   "outputs": [
    {
     "data": {
      "text/plain": [
       "0         australia to manufacture covid-19 vaccine and ...\n",
       "1         @msnbc well, let’s qualify that: would anyone ...\n",
       "2         most countries, without the ability to make #v...\n",
       "3         #dna  zooms up charts in 1st week; hear #vacci...\n",
       "4         it’s over?!\\n\\n#covid19millionares #covid19 \\n...\n",
       "                                ...                        \n",
       "244019    #covidvaccine booster doses are now being offe...\n",
       "244020    may mrna vaccines put the virus mutations swif...\n",
       "244021    is this possible??? humans emitting a bluetoot...\n",
       "244022    medical #tyranny in germany… #covidvaccine? #j...\n",
       "244023    tension prevails as body of muslim youth kille...\n",
       "Name: text, Length: 244024, dtype: object"
      ]
     },
     "execution_count": 8,
     "metadata": {},
     "output_type": "execute_result"
    }
   ],
   "source": [
    "# URL Removal\n",
    "Train['text'] = Train['text'].apply(lambda x:re.sub(r\"http\\S+\", \"\", x))\n",
    "Train[\"text\"]"
   ]
  },
  {
   "cell_type": "code",
   "execution_count": 9,
   "id": "ebaa37b0",
   "metadata": {
    "execution": {
     "iopub.execute_input": "2022-04-12T06:19:14.851961Z",
     "iopub.status.busy": "2022-04-12T06:19:14.851267Z",
     "iopub.status.idle": "2022-04-12T06:19:14.854298Z",
     "shell.execute_reply": "2022-04-12T06:19:14.853793Z",
     "shell.execute_reply.started": "2022-04-11T20:49:47.076620Z"
    },
    "papermill": {
     "duration": 0.038671,
     "end_time": "2022-04-12T06:19:14.854455",
     "exception": false,
     "start_time": "2022-04-12T06:19:14.815784",
     "status": "completed"
    },
    "tags": []
   },
   "outputs": [],
   "source": [
    "import string"
   ]
  },
  {
   "cell_type": "code",
   "execution_count": 10,
   "id": "7f6c00c2",
   "metadata": {
    "execution": {
     "iopub.execute_input": "2022-04-12T06:19:14.916596Z",
     "iopub.status.busy": "2022-04-12T06:19:14.915923Z",
     "iopub.status.idle": "2022-04-12T06:19:17.644695Z",
     "shell.execute_reply": "2022-04-12T06:19:17.644173Z",
     "shell.execute_reply.started": "2022-04-11T20:49:47.083619Z"
    },
    "papermill": {
     "duration": 2.762532,
     "end_time": "2022-04-12T06:19:17.644841",
     "exception": false,
     "start_time": "2022-04-12T06:19:14.882309",
     "status": "completed"
    },
    "tags": []
   },
   "outputs": [
    {
     "data": {
      "text/plain": [
       "0         australia to manufacture covid19 vaccine and g...\n",
       "1         msnbc well let’s qualify that would anyone of ...\n",
       "2         most countries without the ability to make vac...\n",
       "3         dna  zooms up charts in 1st week hear vaccines...\n",
       "4         it’s over\\n\\ncovid19millionares covid19 \\ncoro...\n",
       "                                ...                        \n",
       "244019    covidvaccine booster doses are now being offer...\n",
       "244020    may mrna vaccines put the virus mutations swif...\n",
       "244021    is this possible humans emitting a bluetooth m...\n",
       "244022    medical tyranny in germany… covidvaccine justs...\n",
       "244023    tension prevails as body of muslim youth kille...\n",
       "Name: text, Length: 244024, dtype: object"
      ]
     },
     "execution_count": 10,
     "metadata": {},
     "output_type": "execute_result"
    }
   ],
   "source": [
    "# Punctuation Removal\n",
    "punctuation_removal = string.punctuation\n",
    "def remove_punctuation(text):\n",
    "    \"\"\"custom function to remove the punctuation\"\"\"\n",
    "    return text.translate(str.maketrans('', '', punctuation_removal))\n",
    "Train[\"text\"] = Train[\"text\"].apply(lambda text: remove_punctuation(text))\n",
    "Train[\"text\"]"
   ]
  },
  {
   "cell_type": "code",
   "execution_count": 11,
   "id": "3007ae00",
   "metadata": {
    "execution": {
     "iopub.execute_input": "2022-04-12T06:19:17.705811Z",
     "iopub.status.busy": "2022-04-12T06:19:17.705123Z",
     "iopub.status.idle": "2022-04-12T06:19:23.620476Z",
     "shell.execute_reply": "2022-04-12T06:19:23.619941Z",
     "shell.execute_reply.started": "2022-04-11T20:49:49.792174Z"
    },
    "papermill": {
     "duration": 5.9485,
     "end_time": "2022-04-12T06:19:23.620646",
     "exception": false,
     "start_time": "2022-04-12T06:19:17.672146",
     "status": "completed"
    },
    "tags": []
   },
   "outputs": [
    {
     "data": {
      "text/plain": [
       "0         australia to manufacture covid19 vaccine and g...\n",
       "1         msnbc well let’s qualify that would anyone of ...\n",
       "2         most countries without the ability to make vac...\n",
       "3         dna zooms up charts in 1st week hear vaccines ...\n",
       "4         it’s over covid19millionares covid19 corona co...\n",
       "                                ...                        \n",
       "244019    covidvaccine booster doses are now being offer...\n",
       "244020    may mrna vaccines put the virus mutations swif...\n",
       "244021    is this possible humans emittingbluetooth mac ...\n",
       "244022    medical tyranny in germany… covidvaccine justs...\n",
       "244023    tension prevails as body of muslim youth kille...\n",
       "Name: text, Length: 244024, dtype: object"
      ]
     },
     "execution_count": 11,
     "metadata": {},
     "output_type": "execute_result"
    }
   ],
   "source": [
    "# Single character and double space removal\n",
    "Train[\"text\"] = Train[\"text\"].apply(lambda x:re.sub(r'\\s+[a-zA-Z]\\s+', '', x))\n",
    "Train[\"text\"] = Train[\"text\"].apply(lambda x:re.sub(r'\\s+', ' ', x, flags=re.I))\n",
    "Train[\"text\"]"
   ]
  },
  {
   "cell_type": "code",
   "execution_count": 12,
   "id": "4d2a51b1",
   "metadata": {
    "execution": {
     "iopub.execute_input": "2022-04-12T06:19:23.682971Z",
     "iopub.status.busy": "2022-04-12T06:19:23.679493Z",
     "iopub.status.idle": "2022-04-12T06:19:25.168898Z",
     "shell.execute_reply": "2022-04-12T06:19:25.169518Z",
     "shell.execute_reply.started": "2022-04-11T20:49:55.642376Z"
    },
    "papermill": {
     "duration": 1.521297,
     "end_time": "2022-04-12T06:19:25.169704",
     "exception": false,
     "start_time": "2022-04-12T06:19:23.648407",
     "status": "completed"
    },
    "tags": []
   },
   "outputs": [
    {
     "data": {
      "text/plain": [
       "0         australia manufacture covid19 vaccine give cit...\n",
       "1         msnbc well let’s qualify would anyone party ge...\n",
       "2         countries without ability make vaccines locall...\n",
       "3         dna zooms charts 1st week hear vaccines episod...\n",
       "4         it’s covid19millionares covid19 corona covidva...\n",
       "                                ...                        \n",
       "244019    covidvaccine booster doses offered children ag...\n",
       "244020    may mrna vaccines put virus mutations swiftly ...\n",
       "244021    possible humans emittingbluetooth mac adress s...\n",
       "244022    medical tyranny germany… covidvaccine justsayn...\n",
       "244023    tension prevails body muslim youth killed cele...\n",
       "Name: text, Length: 244024, dtype: object"
      ]
     },
     "execution_count": 12,
     "metadata": {},
     "output_type": "execute_result"
    }
   ],
   "source": [
    "# Stopword Removal\n",
    "\", \".join(stopwords.words('english'))\n",
    "STOPWORDS = set(stopwords.words('english'))\n",
    "def remove_stopwords(text):\n",
    "    \"\"\"custom function to remove the stopwords\"\"\"\n",
    "    return \" \".join([word for word in str(text).split() if word not in STOPWORDS])\n",
    "\n",
    "Train[\"text\"] = Train[\"text\"].apply(lambda text: remove_stopwords(text))\n",
    "Train[\"text\"]"
   ]
  },
  {
   "cell_type": "code",
   "execution_count": 13,
   "id": "9a7eaec6",
   "metadata": {
    "execution": {
     "iopub.execute_input": "2022-04-12T06:19:25.232507Z",
     "iopub.status.busy": "2022-04-12T06:19:25.228366Z",
     "iopub.status.idle": "2022-04-12T06:19:28.252009Z",
     "shell.execute_reply": "2022-04-12T06:19:28.252493Z",
     "shell.execute_reply.started": "2022-04-11T20:49:57.079613Z"
    },
    "papermill": {
     "duration": 3.055189,
     "end_time": "2022-04-12T06:19:28.252702",
     "exception": false,
     "start_time": "2022-04-12T06:19:25.197513",
     "status": "completed"
    },
    "tags": []
   },
   "outputs": [
    {
     "data": {
      "text/plain": [
       "0         australia manufacture covid19 vaccine give cit...\n",
       "1         msnbc well let’s qualify would anyone party ge...\n",
       "2         countries without ability make vaccines locall...\n",
       "3         dna zooms charts 1st week hear vaccines episod...\n",
       "4         it’s covid19millionares covid19 corona covidva...\n",
       "                                ...                        \n",
       "244019    covidvaccine booster doses offered children ag...\n",
       "244020    may mrna vaccines put virus mutations swiftly ...\n",
       "244021    possible humans emittingbluetooth mac adress s...\n",
       "244022    medical tyranny germany… covidvaccine justsayn...\n",
       "244023    tension prevails body muslim youth killed cele...\n",
       "Name: text, Length: 244024, dtype: object"
      ]
     },
     "execution_count": 13,
     "metadata": {},
     "output_type": "execute_result"
    }
   ],
   "source": [
    "# Emoji Removal\n",
    "def remove_emoji(string):\n",
    "    emoji_pattern = re.compile(\"[\"\n",
    "                               u\"\\U0001F600-\\U0001F64F\"  # emoticons\n",
    "                               u\"\\U0001F300-\\U0001F5FF\"  # symbols & pictographs\n",
    "                               u\"\\U0001F680-\\U0001F6FF\"  # transport & map symbols\n",
    "                               u\"\\U0001F1E0-\\U0001F1FF\"  # flags (iOS)\n",
    "                               u\"\\U00002500-\\U00002BEF\"  # chinese char\n",
    "                               u\"\\U00002702-\\U000027B0\"\n",
    "                               u\"\\U00002702-\\U000027B0\"\n",
    "                               u\"\\U000024C2-\\U0001F251\"\n",
    "                               u\"\\U0001f926-\\U0001f937\"\n",
    "                               u\"\\U00010000-\\U0010ffff\"\n",
    "                               u\"\\u2640-\\u2642\"\n",
    "                               u\"\\u2600-\\u2B55\"\n",
    "                               u\"\\u200d\"\n",
    "                               u\"\\u23cf\"\n",
    "                               u\"\\u23e9\"\n",
    "                               u\"\\u231a\"\n",
    "                               u\"\\ufe0f\"  # dingbats\n",
    "                               u\"\\u3030\"\n",
    "                               \"]+\", flags=re.UNICODE)\n",
    "    return emoji_pattern.sub(r'', string)\n",
    "Train[\"text\"] = Train[\"text\"].apply(str)\n",
    "Train[\"text\"] = Train[\"text\"].apply(remove_emoji)\n",
    "Train[\"text\"]"
   ]
  },
  {
   "cell_type": "code",
   "execution_count": 14,
   "id": "bf52bc54",
   "metadata": {
    "execution": {
     "iopub.execute_input": "2022-04-12T06:19:28.317552Z",
     "iopub.status.busy": "2022-04-12T06:19:28.316903Z",
     "iopub.status.idle": "2022-04-12T06:19:28.645215Z",
     "shell.execute_reply": "2022-04-12T06:19:28.646027Z",
     "shell.execute_reply.started": "2022-04-11T20:50:00.059351Z"
    },
    "papermill": {
     "duration": 0.36292,
     "end_time": "2022-04-12T06:19:28.646267",
     "exception": false,
     "start_time": "2022-04-12T06:19:28.283347",
     "status": "completed"
    },
    "tags": []
   },
   "outputs": [
    {
     "name": "stderr",
     "output_type": "stream",
     "text": [
      "/opt/conda/lib/python3.7/site-packages/seaborn/_decorators.py:43: FutureWarning: Pass the following variable as a keyword arg: x. From version 0.12, the only valid positional argument will be `data`, and passing other arguments without an explicit keyword will result in an error or misinterpretation.\n",
      "  FutureWarning\n"
     ]
    },
    {
     "data": {
      "image/png": "[encoded data removed]",
      "text/plain": [
       "<Figure size 432x288 with 1 Axes>"
      ]
     },
     "metadata": {
      "needs_background": "light"
     },
     "output_type": "display_data"
    }
   ],
   "source": [
    "import seaborn as sns\n",
    "ax=sns.countplot(data.Sentiment)"
   ]
  },
  {
   "cell_type": "code",
   "execution_count": 15,
   "id": "c016367d",
   "metadata": {
    "execution": {
     "iopub.execute_input": "2022-04-12T06:19:28.718700Z",
     "iopub.status.busy": "2022-04-12T06:19:28.717989Z",
     "iopub.status.idle": "2022-04-12T06:19:28.762545Z",
     "shell.execute_reply": "2022-04-12T06:19:28.762020Z",
     "shell.execute_reply.started": "2022-04-11T20:50:00.428371Z"
    },
    "papermill": {
     "duration": 0.086302,
     "end_time": "2022-04-12T06:19:28.762736",
     "exception": false,
     "start_time": "2022-04-12T06:19:28.676434",
     "status": "completed"
    },
    "tags": []
   },
   "outputs": [
    {
     "data": {
      "text/html": [
       "<div>\n",
       "<style scoped>\n",
       "    .dataframe tbody tr th:only-of-type {\n",
       "        vertical-align: middle;\n",
       "    }\n",
       "\n",
       "    .dataframe tbody tr th {\n",
       "        vertical-align: top;\n",
       "    }\n",
       "\n",
       "    .dataframe thead th {\n",
       "        text-align: right;\n",
       "    }\n",
       "</style>\n",
       "<table border=\"1\" class=\"dataframe\">\n",
       "  <thead>\n",
       "    <tr style=\"text-align: right;\">\n",
       "      <th></th>\n",
       "      <th>Unnamed: 0</th>\n",
       "      <th>Unnamed: 0.1</th>\n",
       "      <th>Unnamed: 0.1.1</th>\n",
       "      <th>user_name</th>\n",
       "      <th>text</th>\n",
       "      <th>Sentiment</th>\n",
       "      <th>cleaned</th>\n",
       "    </tr>\n",
       "  </thead>\n",
       "  <tbody>\n",
       "    <tr>\n",
       "      <th>0</th>\n",
       "      <td>0</td>\n",
       "      <td>0</td>\n",
       "      <td>0</td>\n",
       "      <td>MyNewsNE</td>\n",
       "      <td>australia manufacture covid19 vaccine give cit...</td>\n",
       "      <td>1</td>\n",
       "      <td>australia manufactur covid vaccin give citizen...</td>\n",
       "    </tr>\n",
       "    <tr>\n",
       "      <th>1</th>\n",
       "      <td>1</td>\n",
       "      <td>1</td>\n",
       "      <td>7</td>\n",
       "      <td>AKisASocialisolationist wash yer damn hands</td>\n",
       "      <td>msnbc well let’s qualify would anyone party ge...</td>\n",
       "      <td>1</td>\n",
       "      <td>msnbc well let qualifi would anyon parti get v...</td>\n",
       "    </tr>\n",
       "    <tr>\n",
       "      <th>2</th>\n",
       "      <td>2</td>\n",
       "      <td>2</td>\n",
       "      <td>8</td>\n",
       "      <td>Dr. Joseph Santoro</td>\n",
       "      <td>countries without ability make vaccines locall...</td>\n",
       "      <td>-1</td>\n",
       "      <td>most countri without abil make vaccin local fo...</td>\n",
       "    </tr>\n",
       "    <tr>\n",
       "      <th>3</th>\n",
       "      <td>3</td>\n",
       "      <td>3</td>\n",
       "      <td>9</td>\n",
       "      <td>VUMC OAP</td>\n",
       "      <td>dna zooms charts 1st week hear vaccines episod...</td>\n",
       "      <td>0</td>\n",
       "      <td>dna zoom chart st week hear vaccin episod http...</td>\n",
       "    </tr>\n",
       "    <tr>\n",
       "      <th>4</th>\n",
       "      <td>4</td>\n",
       "      <td>4</td>\n",
       "      <td>11</td>\n",
       "      <td>Mohammadali Naseri</td>\n",
       "      <td>it’s covid19millionares covid19 corona covidva...</td>\n",
       "      <td>0</td>\n",
       "      <td>covid millionar covid corona covidvaccin</td>\n",
       "    </tr>\n",
       "  </tbody>\n",
       "</table>\n",
       "</div>"
      ],
      "text/plain": [
       "   Unnamed: 0  Unnamed: 0.1  Unnamed: 0.1.1  \\\n",
       "0           0             0               0   \n",
       "1           1             1               7   \n",
       "2           2             2               8   \n",
       "3           3             3               9   \n",
       "4           4             4              11   \n",
       "\n",
       "                                     user_name  \\\n",
       "0                                     MyNewsNE   \n",
       "1  AKisASocialisolationist wash yer damn hands   \n",
       "2                           Dr. Joseph Santoro   \n",
       "3                                     VUMC OAP   \n",
       "4                           Mohammadali Naseri   \n",
       "\n",
       "                                                text  Sentiment  \\\n",
       "0  australia manufacture covid19 vaccine give cit...          1   \n",
       "1  msnbc well let’s qualify would anyone party ge...          1   \n",
       "2  countries without ability make vaccines locall...         -1   \n",
       "3  dna zooms charts 1st week hear vaccines episod...          0   \n",
       "4  it’s covid19millionares covid19 corona covidva...          0   \n",
       "\n",
       "                                             cleaned  \n",
       "0  australia manufactur covid vaccin give citizen...  \n",
       "1  msnbc well let qualifi would anyon parti get v...  \n",
       "2  most countri without abil make vaccin local fo...  \n",
       "3  dna zoom chart st week hear vaccin episod http...  \n",
       "4           covid millionar covid corona covidvaccin  "
      ]
     },
     "execution_count": 15,
     "metadata": {},
     "output_type": "execute_result"
    }
   ],
   "source": [
    "data.drop([\"user_location\", \n",
    "                                \"user_description\", \"user_created\", \n",
    "                                \"user_followers\", \"user_friends\", \n",
    "                                \"user_favourites\", \"user_verified\",\"date\",\"hashtags\", \n",
    "                                \"source\", \"is_retweet\" ,\"Positive\",\"Negative\",\"Neutral\",\"Compound\"],axis=1,inplace=True)\n",
    "data.head()"
   ]
  },
  {
   "cell_type": "code",
   "execution_count": 16,
   "id": "14ff4690",
   "metadata": {
    "execution": {
     "iopub.execute_input": "2022-04-12T06:19:28.838981Z",
     "iopub.status.busy": "2022-04-12T06:19:28.837922Z",
     "iopub.status.idle": "2022-04-12T06:19:28.902803Z",
     "shell.execute_reply": "2022-04-12T06:19:28.903458Z",
     "shell.execute_reply.started": "2022-04-11T20:50:00.460296Z"
    },
    "papermill": {
     "duration": 0.106013,
     "end_time": "2022-04-12T06:19:28.903648",
     "exception": false,
     "start_time": "2022-04-12T06:19:28.797635",
     "status": "completed"
    },
    "tags": []
   },
   "outputs": [
    {
     "name": "stdout",
     "output_type": "stream",
     "text": [
      "training set : (195219,) (195219,)\n",
      "testing set : (48805,) (48805,)\n"
     ]
    }
   ],
   "source": [
    "#Split data into training and testing sets \n",
    "from sklearn.feature_extraction.text import CountVectorizer\n",
    "from sklearn.model_selection import train_test_split\n",
    "x_train, x_test, y_train, y_test = train_test_split(data[\"text\"], \n",
    "                                                    data[\"Sentiment\"], test_size = 0.2, random_state = 42)\n",
    "\n",
    "print(\"training set :\",x_train.shape,y_train.shape)\n",
    "print(\"testing set :\",x_test.shape,y_test.shape)"
   ]
  },
  {
   "cell_type": "code",
   "execution_count": 17,
   "id": "5e8b8b2c",
   "metadata": {
    "execution": {
     "iopub.execute_input": "2022-04-12T06:19:28.982879Z",
     "iopub.status.busy": "2022-04-12T06:19:28.981950Z",
     "iopub.status.idle": "2022-04-12T06:19:35.252704Z",
     "shell.execute_reply": "2022-04-12T06:19:35.252011Z",
     "shell.execute_reply.started": "2022-04-11T20:50:00.514858Z"
    },
    "papermill": {
     "duration": 6.311395,
     "end_time": "2022-04-12T06:19:35.252845",
     "exception": false,
     "start_time": "2022-04-12T06:19:28.941450",
     "status": "completed"
    },
    "tags": []
   },
   "outputs": [
    {
     "name": "stdout",
     "output_type": "stream",
     "text": [
      "(195219, 197244)\n",
      "(195219, 197244)\n"
     ]
    }
   ],
   "source": [
    "from sklearn.feature_extraction.text import CountVectorizer, TfidfTransformer\n",
    "count_vect = CountVectorizer(stop_words='english')\n",
    "transformer = TfidfTransformer(norm='l2',sublinear_tf=True)\n",
    "x_train_counts = count_vect.fit_transform(x_train)\n",
    "x_train_tfidf = transformer.fit_transform(x_train_counts)\n",
    "\n",
    "print(x_train_counts.shape)\n",
    "print(x_train_tfidf.shape)"
   ]
  },
  {
   "cell_type": "code",
   "execution_count": 18,
   "id": "fd12d146",
   "metadata": {
    "execution": {
     "iopub.execute_input": "2022-04-12T06:19:35.325159Z",
     "iopub.status.busy": "2022-04-12T06:19:35.324144Z",
     "iopub.status.idle": "2022-04-12T06:19:36.593575Z",
     "shell.execute_reply": "2022-04-12T06:19:36.594118Z",
     "shell.execute_reply.started": "2022-04-11T20:50:06.243696Z"
    },
    "papermill": {
     "duration": 1.309786,
     "end_time": "2022-04-12T06:19:36.594288",
     "exception": false,
     "start_time": "2022-04-12T06:19:35.284502",
     "status": "completed"
    },
    "tags": []
   },
   "outputs": [
    {
     "name": "stdout",
     "output_type": "stream",
     "text": [
      "(48805, 197244)\n",
      "(48805, 197244)\n"
     ]
    }
   ],
   "source": [
    "x_test_counts = count_vect.transform(x_test)\n",
    "x_test_tfidf = transformer.transform(x_test_counts)\n",
    "\n",
    "print(x_test_counts.shape)\n",
    "print(x_test_tfidf.shape)"
   ]
  },
  {
   "cell_type": "code",
   "execution_count": 19,
   "id": "ea19a920",
   "metadata": {
    "execution": {
     "iopub.execute_input": "2022-04-12T06:19:36.660571Z",
     "iopub.status.busy": "2022-04-12T06:19:36.659629Z",
     "iopub.status.idle": "2022-04-12T07:33:32.071106Z",
     "shell.execute_reply": "2022-04-12T07:33:32.071588Z"
    },
    "papermill": {
     "duration": 4435.446341,
     "end_time": "2022-04-12T07:33:32.071785",
     "exception": false,
     "start_time": "2022-04-12T06:19:36.625444",
     "status": "completed"
    },
    "tags": []
   },
   "outputs": [
    {
     "data": {
      "text/plain": [
       "RandomForestClassifier(n_estimators=150)"
      ]
     },
     "execution_count": 19,
     "metadata": {},
     "output_type": "execute_result"
    }
   ],
   "source": [
    "from sklearn.ensemble import RandomForestClassifier\n",
    "model = RandomForestClassifier(n_estimators=150)\n",
    "model.fit(x_train_tfidf,y_train)"
   ]
  },
  {
   "cell_type": "code",
   "execution_count": 20,
   "id": "6fc13ac8",
   "metadata": {
    "execution": {
     "iopub.execute_input": "2022-04-12T07:33:32.138199Z",
     "iopub.status.busy": "2022-04-12T07:33:32.137253Z",
     "iopub.status.idle": "2022-04-12T07:33:53.413703Z",
     "shell.execute_reply": "2022-04-12T07:33:53.414293Z"
    },
    "papermill": {
     "duration": 21.311362,
     "end_time": "2022-04-12T07:33:53.414466",
     "exception": false,
     "start_time": "2022-04-12T07:33:32.103104",
     "status": "completed"
    },
    "tags": []
   },
   "outputs": [
    {
     "data": {
      "text/plain": [
       "83.29269542055118"
      ]
     },
     "execution_count": 20,
     "metadata": {},
     "output_type": "execute_result"
    }
   ],
   "source": [
    "predictions = model.predict(x_test_tfidf)\n",
    "#Accuracy_score\n",
    "from sklearn.metrics import accuracy_score\n",
    "accuracy_score(y_test,predictions)*100"
   ]
  },
  {
   "cell_type": "code",
   "execution_count": 21,
   "id": "6f5adb3d",
   "metadata": {
    "execution": {
     "iopub.execute_input": "2022-04-12T07:33:53.482827Z",
     "iopub.status.busy": "2022-04-12T07:33:53.481844Z",
     "iopub.status.idle": "2022-04-12T07:33:53.490432Z",
     "shell.execute_reply": "2022-04-12T07:33:53.490916Z"
    },
    "papermill": {
     "duration": 0.044355,
     "end_time": "2022-04-12T07:33:53.491089",
     "exception": false,
     "start_time": "2022-04-12T07:33:53.446734",
     "status": "completed"
    },
    "tags": []
   },
   "outputs": [
    {
     "data": {
      "text/plain": [
       "83.29269542055118"
      ]
     },
     "execution_count": 21,
     "metadata": {},
     "output_type": "execute_result"
    }
   ],
   "source": [
    "from sklearn.metrics import accuracy_score\n",
    "accuracy_score(y_test,predictions)*100"
   ]
  },
  {
   "cell_type": "code",
   "execution_count": 22,
   "id": "19c22c86",
   "metadata": {
    "execution": {
     "iopub.execute_input": "2022-04-12T07:33:53.560827Z",
     "iopub.status.busy": "2022-04-12T07:33:53.559866Z",
     "iopub.status.idle": "2022-04-12T07:33:53.638091Z",
     "shell.execute_reply": "2022-04-12T07:33:53.638583Z"
    },
    "papermill": {
     "duration": 0.114543,
     "end_time": "2022-04-12T07:33:53.638787",
     "exception": false,
     "start_time": "2022-04-12T07:33:53.524244",
     "status": "completed"
    },
    "tags": []
   },
   "outputs": [
    {
     "name": "stdout",
     "output_type": "stream",
     "text": [
      "Classification Report : \n",
      "              precision    recall  f1-score   support\n",
      "\n",
      "          -1       0.86      0.60      0.71      9940\n",
      "           0       0.78      0.93      0.84     16467\n",
      "           1       0.88      0.87      0.87     22398\n",
      "\n",
      "    accuracy                           0.83     48805\n",
      "   macro avg       0.84      0.80      0.81     48805\n",
      "weighted avg       0.84      0.83      0.83     48805\n",
      "\n"
     ]
    }
   ],
   "source": [
    "print(\"Classification Report : \")\n",
    "print(classification_report(y_test,predictions))"
   ]
  },
  {
   "cell_type": "code",
   "execution_count": 23,
   "id": "a5d13905",
   "metadata": {
    "execution": {
     "iopub.execute_input": "2022-04-12T07:33:53.713662Z",
     "iopub.status.busy": "2022-04-12T07:33:53.713008Z",
     "iopub.status.idle": "2022-04-12T07:33:53.774784Z",
     "shell.execute_reply": "2022-04-12T07:33:53.774150Z"
    },
    "papermill": {
     "duration": 0.101082,
     "end_time": "2022-04-12T07:33:53.774921",
     "exception": false,
     "start_time": "2022-04-12T07:33:53.673839",
     "status": "completed"
    },
    "tags": []
   },
   "outputs": [
    {
     "data": {
      "text/plain": [
       "array([[ 5995,  2034,  1911],\n",
       "       [  351, 15256,   860],\n",
       "       [  624,  2374, 19400]])"
      ]
     },
     "execution_count": 23,
     "metadata": {},
     "output_type": "execute_result"
    }
   ],
   "source": [
    "from sklearn.metrics import confusion_matrix,f1_score\n",
    "\n",
    "from sklearn.metrics import plot_confusion_matrix\n",
    "confusion_matrix(y_test,predictions)"
   ]
  }
 ],
 "metadata": {
  "kernelspec": {
   "display_name": "Python 3",
   "language": "python",
   "name": "python3"
  },
  "language_info": {
   "codemirror_mode": {
    "name": "ipython",
    "version": 3
   },
   "file_extension": ".py",
   "mimetype": "text/x-python",
   "name": "python",
   "nbconvert_exporter": "python",
   "pygments_lexer": "ipython3",
   "version": "3.7.12"
  },
  "papermill": {
   "default_parameters": {},
   "duration": 4640.561236,
   "end_time": "2022-04-12T07:33:55.432408",
   "environment_variables": {},
   "exception": null,
   "input_path": "__notebook__.ipynb",
   "output_path": "__notebook__.ipynb",
   "parameters": {},
   "start_time": "2022-04-12T06:16:34.871172",
   "version": "2.3.3"
  }
 },
 "nbformat": 4,
 "nbformat_minor": 5
}
